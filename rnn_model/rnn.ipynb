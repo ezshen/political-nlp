{
 "cells": [
  {
   "cell_type": "code",
   "execution_count": 297,
   "metadata": {},
   "outputs": [
    {
     "name": "stdout",
     "output_type": "stream",
     "text": [
      "[nltk_data] Downloading package punkt to /Users/ezshen/nltk_data...\n",
      "[nltk_data]   Package punkt is already up-to-date!\n"
     ]
    }
   ],
   "source": [
    "import numpy as np\n",
    "import tensorflow as tf\n",
    "import pandas as pd\n",
    "import nltk\n",
    "nltk.download('punkt')\n",
    "import sklearn as sk\n",
    "\n",
    "WORD_VECTOR_PATH = \"data/wordVectors.txt\"\n",
    "VOCAB_PATH = \"data/vocab.txt\"\n",
    "DATA_PATH = \"../data/primary_debates.csv\""
   ]
  },
  {
   "cell_type": "code",
   "execution_count": 298,
   "metadata": {},
   "outputs": [],
   "source": [
    "def load_and_preprocess_sent(in_file):\n",
    "    df = pd.read_csv(in_file, quotechar='\"', delimiter=\",\")\n",
    "\n",
    "    # filter out bad speakers\n",
    "    df = df[(df.Speaker != 'AUDIENCE') & (df.Speaker != 'OTHER') & (df.Speaker != 'CANDIDATES') & (df.Speaker != 'QUESTION')]\n",
    "    \n",
    "    # split text into sentences\n",
    "    tokenizer = nltk.data.load('tokenizers/punkt/english.pickle')\n",
    "    df = pd.concat([pd.Series(row.Party, tokenizer.tokenize(row.Text)) for _, row in df.iterrows()]).reset_index()\n",
    "    df = df.rename(index=str, columns={'index': 'Text', 0: 'Party'})\n",
    "    \n",
    "    for i, row in df.iterrows():\n",
    "        if row.Text[-1] == '.': # get rid of periods and make lowercase\n",
    "            row.Text = row.Text.lower()[:-1]\n",
    "        else: \n",
    "            row.Text = row.Text.lower()\n",
    "            \n",
    "        if row.Party == 'Republican': # Democratic = 0, Republican = 1\n",
    "            row.Party = 1 \n",
    "        else: row.Party = 0 \n",
    "\n",
    "    return df.Text.values.astype(str), df.Party.values.astype(int)"
   ]
  },
  {
   "cell_type": "code",
   "execution_count": 299,
   "metadata": {},
   "outputs": [],
   "source": [
    "def load_and_preprocess_data(in_file):\n",
    "    df = pd.read_csv(in_file, quotechar='\"', delimiter=\",\")\n",
    "\n",
    "    # filter out bad speakers\n",
    "    df = df[(df.Speaker != 'AUDIENCE') & (df.Speaker != 'OTHER') & (df.Speaker != 'CANDIDATES') & (df.Speaker != 'QUESTION')]\n",
    "    \n",
    "    # split text into sentences\n",
    "    tokenizer = nltk.data.load('tokenizers/punkt/english.pickle')\n",
    "    df = pd.concat([pd.Series(row.Party, tokenizer.tokenize(row.Text)) for _, row in df.iterrows()]).reset_index()\n",
    "    df = df.rename(index=str, columns={'index': 'Text', 0: 'Party'})\n",
    "    \n",
    "    for i, row in df.iterrows():\n",
    "#         if row.Text[-1] == '.': # get rid of periods and make lowercase\n",
    "#             row.Text = row.Text.lower()[:-1]\n",
    "#         else: \n",
    "#             row.Text = row.Text.lower()\n",
    "            \n",
    "        if row.Party == 'Republican': # Democratic = 0, Republican = 1\n",
    "            row.Party = 1 \n",
    "        else: row.Party = 0 \n",
    "\n",
    "    return df"
   ]
  },
  {
   "cell_type": "code",
   "execution_count": 300,
   "metadata": {},
   "outputs": [],
   "source": [
    "x, y = load_and_preprocess_sent(DATA_PATH)"
   ]
  },
  {
   "cell_type": "code",
   "execution_count": 301,
   "metadata": {},
   "outputs": [],
   "source": [
    "from string import punctuation\n",
    "all_text = ' '.join(x)\n",
    "words = all_text.split()"
   ]
  },
  {
   "cell_type": "code",
   "execution_count": 302,
   "metadata": {},
   "outputs": [],
   "source": [
    "from collections import Counter\n",
    "counts = Counter(words)\n",
    "vocab = sorted(counts, key=counts.get, reverse=True)\n",
    "vocab_to_int = {word: ii for ii, word in enumerate(vocab, 1)}\n",
    "\n",
    "temp_sent_ints = []\n",
    "for each in text:\n",
    "    temp_sent_ints.append([vocab_to_int[word] for word in each.split()])"
   ]
  },
  {
   "cell_type": "code",
   "execution_count": 303,
   "metadata": {},
   "outputs": [
    {
     "name": "stdout",
     "output_type": "stream",
     "text": [
      "Zero-length sent: 12\n",
      "Maximum sent length: 112\n"
     ]
    }
   ],
   "source": [
    "from collections import Counter\n",
    "sent_lens = Counter([len(x) for x in temp_sent_ints])\n",
    "seq_len = max(sent_lens) # set the sequence length\n",
    "print(\"Zero-length sent: {}\".format(sent_lens[0]))\n",
    "print(\"Maximum sent length: {}\".format(max(sent_lens)))"
   ]
  },
  {
   "cell_type": "code",
   "execution_count": 304,
   "metadata": {},
   "outputs": [],
   "source": [
    "labels = []\n",
    "sent_ints = []\n",
    "for i in range(len(temp_sent_ints)):\n",
    "    if len(temp_sent_ints[i]) > 0:\n",
    "        sent_ints.append(temp_sent_ints[i][0:seq_len])\n",
    "        labels.append(y[i])"
   ]
  },
  {
   "cell_type": "code",
   "execution_count": 305,
   "metadata": {
    "scrolled": true
   },
   "outputs": [
    {
     "name": "stdout",
     "output_type": "stream",
     "text": [
      "Zero-length sent: 0\n",
      "Maximum sent length: 112\n"
     ]
    }
   ],
   "source": [
    "from collections import Counter\n",
    "sent_lens = Counter([len(x) for x in sent_ints])\n",
    "print(\"Zero-length sent: {}\".format(sent_lens[0]))\n",
    "# set the max length to the longest sentence\n",
    "print(\"Maximum sent length: {}\".format(seq_len))"
   ]
  },
  {
   "cell_type": "code",
   "execution_count": 306,
   "metadata": {},
   "outputs": [],
   "source": [
    "features = np.zeros((len(sent_ints), seq_len), dtype=int)\n",
    "for i, row in enumerate(sent_ints):\n",
    "    features[i, -len(row):] = np.array(row)[:seq_len]"
   ]
  },
  {
   "cell_type": "code",
   "execution_count": 307,
   "metadata": {},
   "outputs": [
    {
     "name": "stdout",
     "output_type": "stream",
     "text": [
      "36526\n",
      "<type 'numpy.ndarray'>\n",
      "[ 0  0  0  0  0  0  0  0  0  0  0  0  0  0  0  0  0  0  0  0  0  0  0  0  0\n",
      "  0  0  0  0  0  0  0  0  0  0  0  0  0  0  0  0  0  0  0  0  0  0  0  0  0\n",
      "  0  0  0  0  0  0  0  0  0  0  0  0  0  0  0  0  0  0  0  0  0  0  0  0  0\n",
      "  0  0  0  0  0  0  0  0  0  0  0  0  0  0  0  0  0  0  0  0  0  0  0  0  0\n",
      "  0  0  0  0  0  0  0  0  0  0 65  9]\n",
      "112\n",
      "[65, 9]\n",
      "2\n"
     ]
    }
   ],
   "source": [
    "print(len(features))\n",
    "print(type(features))\n",
    "print(features[41])\n",
    "print(len(features[41]))\n",
    "print(sent_ints[41])\n",
    "print(len(sent_ints[41]))"
   ]
  },
  {
   "cell_type": "code",
   "execution_count": 308,
   "metadata": {},
   "outputs": [
    {
     "data": {
      "text/plain": [
       "36526"
      ]
     },
     "execution_count": 308,
     "metadata": {},
     "output_type": "execute_result"
    }
   ],
   "source": [
    "len(labels)"
   ]
  },
  {
   "cell_type": "code",
   "execution_count": 309,
   "metadata": {},
   "outputs": [
    {
     "data": {
      "text/plain": [
       "36526"
      ]
     },
     "execution_count": 309,
     "metadata": {},
     "output_type": "execute_result"
    }
   ],
   "source": [
    "len(features)"
   ]
  },
  {
   "cell_type": "code",
   "execution_count": 310,
   "metadata": {},
   "outputs": [],
   "source": [
    "import sklearn as sk \n",
    "train_x, val_x, train_y, val_y = sk.model_selection.train_test_split(features, labels, test_size=0.3, random_state=224)\n",
    "train_x = train_x[:1000]\n",
    "train_y = train_y[:1000]\n",
    "val_x = val_x[:1000]\n",
    "val_y = val_y[:1000]"
   ]
  },
  {
   "cell_type": "code",
   "execution_count": 314,
   "metadata": {},
   "outputs": [
    {
     "name": "stdout",
     "output_type": "stream",
     "text": [
      "\t\t\tFeature Shapes:\n",
      "Train set: \t(1000, 112)\n",
      "Validation set: \t(1000, 112)\n",
      "Label set: \t(1000,)\n",
      "Validation label set: \t(1000,)\n"
     ]
    }
   ],
   "source": [
    "print(\"\\t\\t\\tFeature Shapes:\")\n",
    "print(\"Train set: \\t\" + str(np.shape(train_x)) + \"\\nValidation set: \\t\" + str(np.shape(val_x)))\n",
    "print(\"Label set: \\t\" + str(np.shape(train_y)) + \"\\nValidation label set: \\t\" + str(np.shape(val_y)))"
   ]
  },
  {
   "cell_type": "code",
   "execution_count": 315,
   "metadata": {},
   "outputs": [],
   "source": [
    "lstm_size = 256\n",
    "lstm_layers = 2\n",
    "batch_size = 1000\n",
    "learning_rate = 0.01"
   ]
  },
  {
   "cell_type": "code",
   "execution_count": 316,
   "metadata": {},
   "outputs": [],
   "source": [
    "n_words = len(vocab_to_int) + 1 # Add 1 for 0 added to vocab\n",
    "\n",
    "# Create the graph object\n",
    "tf.reset_default_graph()\n",
    "with tf.name_scope('inputs'):\n",
    "    inputs_ = tf.placeholder(tf.int32, [None, None], name=\"inputs\")\n",
    "    labels_ = tf.placeholder(tf.int32, [None, None], name=\"labels\")\n",
    "    keep_prob = tf.placeholder(tf.float32, name=\"keep_prob\")"
   ]
  },
  {
   "cell_type": "code",
   "execution_count": 317,
   "metadata": {},
   "outputs": [],
   "source": [
    "# Size of the embedding vectors (number of units in the embedding layer)\n",
    "embed_size = 300 \n",
    "\n",
    "with tf.name_scope(\"Embeddings\"):\n",
    "    embedding = tf.Variable(tf.random_uniform((n_words, embed_size), -1, 1))\n",
    "    embed = tf.nn.embedding_lookup(embedding, inputs_)"
   ]
  },
  {
   "cell_type": "code",
   "execution_count": 318,
   "metadata": {},
   "outputs": [],
   "source": [
    "def lstm_cell():\n",
    "    # Your basic LSTM cell\n",
    "    lstm = tf.contrib.rnn.BasicLSTMCell(lstm_size, reuse=tf.get_variable_scope().reuse)\n",
    "    # Add dropout to the cell\n",
    "    return tf.contrib.rnn.DropoutWrapper(lstm, output_keep_prob=keep_prob)\n",
    "\n",
    "with tf.name_scope(\"RNN_layers\"):\n",
    "    # Stack up multiple LSTM layers, for deep learning\n",
    "    cell = tf.contrib.rnn.MultiRNNCell([lstm_cell() for _ in range(lstm_layers)])\n",
    "    \n",
    "    # Getting an initial state of all zeros\n",
    "    initial_state = cell.zero_state(batch_size, tf.float32)"
   ]
  },
  {
   "cell_type": "code",
   "execution_count": 319,
   "metadata": {},
   "outputs": [],
   "source": [
    "with tf.name_scope(\"RNN_forward\"):\n",
    "    outputs, final_state = tf.nn.dynamic_rnn(cell, embed, initial_state=initial_state)"
   ]
  },
  {
   "cell_type": "code",
   "execution_count": 320,
   "metadata": {},
   "outputs": [],
   "source": [
    "with tf.name_scope('predictions'):\n",
    "    predictions = tf.contrib.layers.fully_connected(outputs[:, -1], 1, activation_fn=tf.sigmoid)\n",
    "    tf.summary.histogram('predictions', predictions)\n",
    "with tf.name_scope('cost'):\n",
    "    cost = tf.losses.mean_squared_error(labels_, predictions)\n",
    "    tf.summary.scalar('cost', cost)\n",
    "\n",
    "with tf.name_scope('train'):\n",
    "    optimizer = tf.train.AdamOptimizer(learning_rate).minimize(cost)\n",
    "\n",
    "merged = tf.summary.merge_all()"
   ]
  },
  {
   "cell_type": "code",
   "execution_count": 321,
   "metadata": {},
   "outputs": [],
   "source": [
    "with tf.name_scope('validation'):\n",
    "    correct_pred = tf.equal(tf.cast(tf.round(predictions), tf.int32), labels_)\n",
    "    accuracy = tf.reduce_mean(tf.cast(correct_pred, tf.float32))"
   ]
  },
  {
   "cell_type": "code",
   "execution_count": 322,
   "metadata": {},
   "outputs": [],
   "source": [
    "def get_batches(x, y, batch_size=100):\n",
    "    \n",
    "    n_batches = len(x)//batch_size\n",
    "    x, y = x[:n_batches*batch_size], y[:n_batches*batch_size]\n",
    "    for ii in range(0, len(x), batch_size):\n",
    "        yield x[ii:ii+batch_size], y[ii:ii+batch_size]"
   ]
  },
  {
   "cell_type": "code",
   "execution_count": 323,
   "metadata": {},
   "outputs": [
    {
     "name": "stdout",
     "output_type": "stream",
     "text": [
      "('Epoch: 4/10', 'Iteration: 5', 'Train loss: 0.343')\n",
      "('Epoch: 9/10', 'Iteration: 10', 'Train loss: 0.127')\n"
     ]
    }
   ],
   "source": [
    "epochs = 10\n",
    "\n",
    "# with graph.as_default():\n",
    "saver = tf.train.Saver()\n",
    "\n",
    "with tf.Session() as sess:\n",
    "    sess.run(tf.global_variables_initializer())\n",
    "    train_writer = tf.summary.FileWriter('./logs/tb/train', sess.graph)\n",
    "    test_writer = tf.summary.FileWriter('./logs/tb/test', sess.graph)\n",
    "    iteration = 1\n",
    "    for e in range(epochs):\n",
    "        state = sess.run(initial_state)\n",
    "        \n",
    "        for ii, (x, y) in enumerate(get_batches(train_x, train_y, batch_size), 1):\n",
    "            feed = {inputs_: x,\n",
    "                    labels_: np.asarray(y).reshape(len(y), 1),\n",
    "                    keep_prob: 0.5,\n",
    "                    initial_state: state}\n",
    "            summary, loss, state, _ = sess.run([merged, cost, final_state, optimizer], feed_dict=feed)\n",
    "#             loss, state, _ = sess.run([cost, final_state, optimizer], feed_dict=feed)\n",
    "\n",
    "            train_writer.add_summary(summary, iteration)\n",
    "        \n",
    "            if iteration%5==0:\n",
    "                print(\"Epoch: {}/{}\".format(e, epochs),\n",
    "                      \"Iteration: {}\".format(iteration),\n",
    "                      \"Train loss: {:.3f}\".format(loss))\n",
    "\n",
    "            if iteration%25==0:\n",
    "                val_acc = []\n",
    "                val_state = sess.run(cell.zero_state(batch_size, tf.float32))\n",
    "                for x, y in get_batches(val_x, val_y, batch_size):\n",
    "                    feed = {inputs_: x,\n",
    "                            labels_: np.asarray(y).reshape(len(y), 1),\n",
    "                            keep_prob: 1,\n",
    "                            initial_state: val_state}\n",
    "#                     batch_acc, val_state = sess.run([accuracy, final_state], feed_dict=feed)\n",
    "                    summary, batch_acc, val_state = sess.run([merged, accuracy, final_state], feed_dict=feed)\n",
    "                    val_acc.append(batch_acc)\n",
    "                print(\"Val acc: {:.3f}\".format(np.mean(val_acc)))\n",
    "            iteration +=1\n",
    "            test_writer.add_summary(summary, iteration)\n",
    "            saver.save(sess, \"checkpoints/classification_ethan.ckpt\")\n",
    "    saver.save(sess, \"checkpoints/classification_ethan.ckpt\")"
   ]
  },
  {
   "cell_type": "code",
   "execution_count": 325,
   "metadata": {},
   "outputs": [
    {
     "name": "stdout",
     "output_type": "stream",
     "text": [
      "INFO:tensorflow:Restoring parameters from checkpoints/classification_ethan.ckpt\n",
      "Test accuracy: 0.524\n"
     ]
    }
   ],
   "source": [
    "test_acc = []\n",
    "with tf.Session() as sess:\n",
    "    saver.restore(sess, \"checkpoints/classification_ethan.ckpt\")\n",
    "    test_state = sess.run(cell.zero_state(batch_size, tf.float32))\n",
    "    for ii, (x, y) in enumerate(get_batches(val_x, val_y, batch_size), 1):\n",
    "        feed = {inputs_: x,\n",
    "                labels_: np.asarray(y).reshape(len(y), 1),\n",
    "                keep_prob: 1,\n",
    "                initial_state: test_state}\n",
    "        batch_acc, test_state = sess.run([accuracy, final_state], feed_dict=feed)\n",
    "        test_acc.append(batch_acc)\n",
    "    print(\"Test accuracy: {:.3f}\".format(np.mean(test_acc)))"
   ]
  },
  {
   "cell_type": "code",
   "execution_count": null,
   "metadata": {},
   "outputs": [],
   "source": []
  }
 ],
 "metadata": {
  "kernelspec": {
   "display_name": "Python 2",
   "language": "python",
   "name": "python2"
  },
  "language_info": {
   "codemirror_mode": {
    "name": "ipython",
    "version": 2
   },
   "file_extension": ".py",
   "mimetype": "text/x-python",
   "name": "python",
   "nbconvert_exporter": "python",
   "pygments_lexer": "ipython2",
   "version": "2.7.14"
  }
 },
 "nbformat": 4,
 "nbformat_minor": 2
}
